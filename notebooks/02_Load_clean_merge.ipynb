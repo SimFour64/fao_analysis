{
 "cells": [
  {
   "cell_type": "markdown",
   "id": "907989df",
   "metadata": {},
   "source": [
    "# FAO Analysis - Load, clean, merge data"
   ]
  },
  {
   "cell_type": "markdown",
   "id": "acfb0676",
   "metadata": {},
   "source": [
    "This notebook is part of a general analysis on [Food and Agriculture Organization (FAO)](https://www.fao.org/home/en/) of the United Nations :  \n",
    "1. 🚀 Exploration\n",
    "2. 📁 **Load, clean and merge**\n",
    "3. 📊 Analysis visuals\n",
    "\n",
    "🎯 The main goal of this notebook is to test the logic behind loading, cleaning and merging the data, before moving the code into a specific python script that can be reused for further analysis"
   ]
  },
  {
   "cell_type": "markdown",
   "id": "1b67dac1",
   "metadata": {},
   "source": [
    "## Imports, setup"
   ]
  },
  {
   "cell_type": "code",
   "execution_count": 1,
   "id": "1b44c623",
   "metadata": {},
   "outputs": [],
   "source": [
    "import pandas as pd \n",
    "from pathlib import Path\n",
    "import os"
   ]
  },
  {
   "cell_type": "code",
   "execution_count": 2,
   "id": "05c7dab2",
   "metadata": {},
   "outputs": [],
   "source": [
    "package_dir = Path(os.path.dirname(os.getcwd()))"
   ]
  },
  {
   "cell_type": "code",
   "execution_count": 3,
   "id": "f9c6e07d",
   "metadata": {},
   "outputs": [],
   "source": [
    "files = [\"Production_Crops_Livestock\", \"Land_Use\", \"Emissions_Totals\", \"Food_Balance\"]"
   ]
  },
  {
   "cell_type": "markdown",
   "id": "a794935f",
   "metadata": {},
   "source": [
    "## Load data"
   ]
  },
  {
   "cell_type": "markdown",
   "id": "ef8e62ba",
   "metadata": {},
   "source": [
    "**``load_one_csv()``**"
   ]
  },
  {
   "cell_type": "code",
   "execution_count": 4,
   "id": "5c6426a6",
   "metadata": {},
   "outputs": [],
   "source": [
    "def load_one_csv(filename, processed=False):\n",
    "    if processed:\n",
    "        path = Path(package_dir / f\"data/processed/{filename}_processed.csv\")\n",
    "    else:\n",
    "        path = Path(package_dir / f\"data/raw/{filename}.csv\")\n",
    "        \n",
    "    if not path.exists():\n",
    "        raise FileNotFoundError(f\"File not found: {path}\")\n",
    "        \n",
    "    return pd.read_csv(path)"
   ]
  },
  {
   "cell_type": "markdown",
   "id": "d602ac5c",
   "metadata": {},
   "source": [
    "**``load_raw()``**"
   ]
  },
  {
   "cell_type": "code",
   "execution_count": 5,
   "id": "42ef9c9e",
   "metadata": {},
   "outputs": [],
   "source": [
    "def load_raw():\n",
    "    \"\"\"\n",
    "    Load the required csv files and stores them in pandas DataFrames, returns a python dict with\n",
    "    csv names as keys and dataframes as values\n",
    "    \n",
    "    Args: \n",
    "        None\n",
    "    \n",
    "    Returns: \n",
    "        dict_df (dictionnary of pd.Dataframes): dataframes froms csv raw data\n",
    "    \"\"\"\n",
    "    \n",
    "    dict_df = {}\n",
    "    \n",
    "    for filename in files: \n",
    "        try: \n",
    "            dict_df[filename] = load_one_csv(filename, processed=False)\n",
    "            print(f\"✅ {filename} loaded.\")\n",
    "        except FileNotFoundError as e: \n",
    "            print(f\"Error, file not found ({filename}) → {e}\")\n",
    "            raise\n",
    "        \n",
    "    return dict_df"
   ]
  },
  {
   "cell_type": "code",
   "execution_count": null,
   "id": "fe71db49",
   "metadata": {},
   "outputs": [],
   "source": [
    "dict_df = load_raw()"
   ]
  },
  {
   "cell_type": "markdown",
   "id": "b61e62e2",
   "metadata": {},
   "source": [
    "To be done in the Python script: replace paths with env variables or define it in config file and load it in the script"
   ]
  },
  {
   "cell_type": "markdown",
   "id": "bde4d128",
   "metadata": {},
   "source": [
    "## Clean data"
   ]
  },
  {
   "cell_type": "markdown",
   "id": "4b3b8e49",
   "metadata": {},
   "source": [
    "**Prod dataframe**"
   ]
  },
  {
   "cell_type": "code",
   "execution_count": null,
   "id": "dde5e8f8",
   "metadata": {},
   "outputs": [],
   "source": [
    "df_prod = dict_df[\"Production_Crops_Livestock\"]"
   ]
  },
  {
   "cell_type": "code",
   "execution_count": null,
   "id": "5c3eed58",
   "metadata": {},
   "outputs": [],
   "source": [
    "df_prod = df_prod[[\"Area\", \"Item\", \"Element\", \"Year\", \"Unit\", \"Value\", \"Flag\"]]\n",
    "df_prod"
   ]
  },
  {
   "cell_type": "code",
   "execution_count": null,
   "id": "7cb57514",
   "metadata": {},
   "outputs": [],
   "source": [
    "df_prod.isna().sum()"
   ]
  },
  {
   "cell_type": "code",
   "execution_count": null,
   "id": "573169d2",
   "metadata": {},
   "outputs": [],
   "source": [
    "missing_prod = df_prod[df_prod[\"Value\"].isna()]\n",
    "missing_prod "
   ]
  },
  {
   "cell_type": "code",
   "execution_count": null,
   "id": "b1e3972d",
   "metadata": {},
   "outputs": [],
   "source": [
    "missing_prod[\"Flag\"].value_counts()"
   ]
  },
  {
   "cell_type": "markdown",
   "id": "4e78e3b6",
   "metadata": {},
   "source": [
    "___\n",
    "From FAO Data documentation : \n",
    "- **M**: Missing value (data cannot exist; not applicable)\n",
    "- **A**: Official figure\n",
    "- **E**: Estimated value\n",
    "- **I**: Imputed value\n",
    "___"
   ]
  },
  {
   "cell_type": "markdown",
   "id": "cb8d5d36",
   "metadata": {},
   "source": [
    "Strategy is to keep ``NaN`` values in processed data, but to let the user choose the strategy when loading and processing the data : \n",
    "- *keep*: keeping all the ``NaN`` values\n",
    "- *zero*: setting all ``NaN`` values to ``0``\n",
    "- *drop*: dropping all the ``NaN`` values"
   ]
  },
  {
   "cell_type": "code",
   "execution_count": null,
   "id": "4c4f2b28",
   "metadata": {},
   "outputs": [],
   "source": [
    "df_prod.duplicated().sum()"
   ]
  },
  {
   "cell_type": "markdown",
   "id": "c139eb08",
   "metadata": {},
   "source": [
    "**``clean_data()``**"
   ]
  },
  {
   "cell_type": "markdown",
   "id": "cc6d2d85",
   "metadata": {},
   "source": [
    "* Keep only useful columns \n",
    "* Manage missing rows: no need\n",
    "* Drop duplicates if needed"
   ]
  },
  {
   "cell_type": "code",
   "execution_count": 6,
   "id": "7d0e66d4",
   "metadata": {},
   "outputs": [],
   "source": [
    "columns_to_keep = {\n",
    "    \"Production_Crops_Livestock\": [\"Area\", \"Item\", \"Element\", \"Year\", \"Unit\", \"Value\"],\n",
    "    \"Land_Use\": [\"Area\", \"Item\", \"Element\", \"Year\", \"Unit\", \"Value\"],\n",
    "    \"Emissions_Totals\": [\"Area\", \"Item\", \"Element\", \"Year\", \"Unit\", \"Value\"],\n",
    "    \"Food_Balance\": [\"Area\", \"Item\", \"Element\", \"Year\", \"Unit\", \"Value\"]\n",
    "}"
   ]
  },
  {
   "cell_type": "code",
   "execution_count": 7,
   "id": "a222642c",
   "metadata": {},
   "outputs": [],
   "source": [
    "def clean_data(dict_df):\n",
    "    # Keep useful columns\n",
    "    for key, df in dict_df.items():\n",
    "        dict_df[key] = df[columns_to_keep[key]]\n",
    "        \n",
    "    # Missing rows: not taken in this part\n",
    "    \n",
    "    # Drop duplicates: not needed\n",
    "    \n",
    "    print(\"✅ Data processed\")\n",
    "\n",
    "    return dict_df"
   ]
  },
  {
   "cell_type": "code",
   "execution_count": null,
   "id": "e9377604",
   "metadata": {},
   "outputs": [],
   "source": [
    "clean_df = clean_data(dict_df)"
   ]
  },
  {
   "cell_type": "markdown",
   "id": "9dc8fcf4",
   "metadata": {},
   "source": [
    "**``save_processed()``**"
   ]
  },
  {
   "cell_type": "markdown",
   "id": "a89ab130",
   "metadata": {},
   "source": [
    "* Check if ``processed``file exists and create one if not \n",
    "* Save a csv file for each dataframe"
   ]
  },
  {
   "cell_type": "code",
   "execution_count": 8,
   "id": "8669f078",
   "metadata": {},
   "outputs": [],
   "source": [
    "def save_processed(clean_df):\n",
    "    processed_path = package_dir / \"data/processed\"\n",
    "    processed_path.mkdir(parents=True, exist_ok=True) \n",
    "    \n",
    "    for key, df in clean_df.items():\n",
    "        df.to_csv(processed_path / f\"{key}_processed.csv\", index=False, encoding=\"utf-8\")\n",
    "        print(f\"✅ {key} processed saved.\")"
   ]
  },
  {
   "cell_type": "code",
   "execution_count": null,
   "id": "5e1bbb78",
   "metadata": {},
   "outputs": [],
   "source": [
    "save_processed(clean_df)"
   ]
  },
  {
   "cell_type": "markdown",
   "id": "9c4ccd88",
   "metadata": {},
   "source": [
    "**``load_processed()``**"
   ]
  },
  {
   "cell_type": "markdown",
   "id": "be1bfaa9",
   "metadata": {},
   "source": [
    "- If data processed is empty -> ``load_raw()``, ``clean()``, ``save()``\n",
    "- If data processed exists -> ``pd.read_csv(\"data/processed/...\")``"
   ]
  },
  {
   "cell_type": "code",
   "execution_count": 9,
   "id": "3532c9da",
   "metadata": {},
   "outputs": [],
   "source": [
    "def load_processed(strategy=\"keep\"):\n",
    "    \n",
    "    # Process csv files if not done already\n",
    "    processed_path = Path(package_dir / \"data/processed\")\n",
    "    missing_files = [filename for filename in files if not Path(processed_path / f\"{filename}_processed.csv\").exists()]\n",
    "    if missing_files:\n",
    "        print(\"🟠 Missing files → processing raw data.\")\n",
    "        dict_df = load_raw()\n",
    "        clean_df = clean_data(dict_df)\n",
    "        save_processed(clean_df)\n",
    "    else: \n",
    "        try:\n",
    "            clean_df = {filename: load_one_csv(filename, processed=True) for filename in files}\n",
    "            print(\"✅ Loaded processed data from disk\")\n",
    "        except FileNotFoundError as e: \n",
    "            print(f\"Error, file not found - {e}\")\n",
    "            raise\n",
    "    \n",
    "    # Applying strategy\n",
    "    strategies = {\n",
    "        \"keep\": lambda df: df,\n",
    "        \"zero\": lambda df: df.fillna(0),\n",
    "        \"drop\": lambda df: df.dropna()\n",
    "    }\n",
    "    if strategy not in strategies:\n",
    "        raise ValueError(f\"Unkown strategy {strategy}, please chose from: {', '.join(strategies)}\")\n",
    "    \n",
    "    clean_df = {key: strategies[strategy](df) for key, df in clean_df.items()}\n",
    "    \n",
    "    return clean_df "
   ]
  },
  {
   "cell_type": "code",
   "execution_count": 10,
   "id": "c0bee1c3",
   "metadata": {},
   "outputs": [
    {
     "name": "stdout",
     "output_type": "stream",
     "text": [
      "🟠 Missing files → processing raw data.\n"
     ]
    },
    {
     "name": "stderr",
     "output_type": "stream",
     "text": [
      "/tmp/ipykernel_57547/1169561811.py:10: DtypeWarning: Columns (13) have mixed types. Specify dtype option on import or set low_memory=False.\n",
      "  return pd.read_csv(path)\n"
     ]
    },
    {
     "name": "stdout",
     "output_type": "stream",
     "text": [
      "✅ Production_Crops_Livestock loaded.\n",
      "✅ Land_Use loaded.\n",
      "✅ Emissions_Totals loaded.\n",
      "✅ Food_Balance loaded.\n",
      "✅ Data processed\n",
      "✅ Production_Crops_Livestock processed saved.\n",
      "✅ Land_Use processed saved.\n",
      "✅ Emissions_Totals processed saved.\n",
      "✅ Food_Balance processed saved.\n"
     ]
    }
   ],
   "source": [
    "clean_df = load_processed()"
   ]
  },
  {
   "cell_type": "code",
   "execution_count": null,
   "id": "9cd2264f",
   "metadata": {},
   "outputs": [],
   "source": []
  }
 ],
 "metadata": {
  "kernelspec": {
   "display_name": "Python 3 (ipykernel)",
   "language": "python",
   "name": "python3"
  },
  "language_info": {
   "codemirror_mode": {
    "name": "ipython",
    "version": 3
   },
   "file_extension": ".py",
   "mimetype": "text/x-python",
   "name": "python",
   "nbconvert_exporter": "python",
   "pygments_lexer": "ipython3",
   "version": "3.10.6"
  },
  "toc": {
   "base_numbering": 1,
   "nav_menu": {},
   "number_sections": true,
   "sideBar": true,
   "skip_h1_title": false,
   "title_cell": "Table of Contents",
   "title_sidebar": "Contents",
   "toc_cell": false,
   "toc_position": {},
   "toc_section_display": true,
   "toc_window_display": false
  }
 },
 "nbformat": 4,
 "nbformat_minor": 5
}
