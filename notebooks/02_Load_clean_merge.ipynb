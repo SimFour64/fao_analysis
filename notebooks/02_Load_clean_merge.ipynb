{
 "cells": [
  {
   "cell_type": "markdown",
   "id": "907989df",
   "metadata": {},
   "source": [
    "# FAO Analysis - Load, clean, merge data"
   ]
  },
  {
   "cell_type": "markdown",
   "id": "acfb0676",
   "metadata": {},
   "source": [
    "This notebook is part of a general analysis on [Food and Agriculture Organization (FAO)](https://www.fao.org/home/en/) of the United Nations :  \n",
    "1. 🚀 Exploration\n",
    "2. 📁 **Load, clean and merge**\n",
    "3. 📊 Analysis visuals\n",
    "\n",
    "🎯 The main goal of this notebook is to test the logic behind loading, cleaning and merging the data, before moving the code into a specific python script that can be reused for further analysis"
   ]
  },
  {
   "cell_type": "markdown",
   "id": "1b67dac1",
   "metadata": {},
   "source": [
    "## Imports, setup"
   ]
  },
  {
   "cell_type": "code",
   "execution_count": 1,
   "id": "1b44c623",
   "metadata": {},
   "outputs": [],
   "source": [
    "import pandas as pd \n",
    "from pathlib import Path\n",
    "import os"
   ]
  },
  {
   "cell_type": "code",
   "execution_count": 2,
   "id": "05c7dab2",
   "metadata": {},
   "outputs": [],
   "source": [
    "package_dir = Path(os.path.dirname(os.getcwd()))"
   ]
  },
  {
   "cell_type": "code",
   "execution_count": 3,
   "id": "b368c31f",
   "metadata": {},
   "outputs": [],
   "source": [
    "files = [\"Production_Crops_Livestock\", \"Land_Use\", \"Emissions_Totals\", \"Food_Balance\"]"
   ]
  },
  {
   "cell_type": "markdown",
   "id": "a794935f",
   "metadata": {},
   "source": [
    "## Load data"
   ]
  },
  {
   "cell_type": "markdown",
   "id": "8ce3574b",
   "metadata": {},
   "source": [
    "**``load_one_csv()``**"
   ]
  },
  {
   "cell_type": "code",
   "execution_count": 4,
   "id": "9c097a26",
   "metadata": {},
   "outputs": [],
   "source": [
    "def load_one_csv(filename, processed=False):\n",
    "    if processed:\n",
    "        path = Path(package_dir / f\"data/processed/{filename}_processed.csv\")\n",
    "    else:\n",
    "        path = Path(package_dir / f\"data/raw/{filename}.csv\")\n",
    "        \n",
    "    if not path.exists():\n",
    "        raise FileNotFoundError(f\"File not found: {path}\")\n",
    "        \n",
    "    return pd.read_csv(path)"
   ]
  },
  {
   "cell_type": "markdown",
   "id": "90afb95b",
   "metadata": {},
   "source": [
    "**``load_raw()``**"
   ]
  },
  {
   "cell_type": "code",
   "execution_count": 5,
   "id": "504be91d",
   "metadata": {},
   "outputs": [],
   "source": [
    "def load_raw():\n",
    "    \"\"\"\n",
    "    Load the required csv files and stores them in pandas DataFrames, returns a python dict with\n",
    "    csv names as keys and dataframes as values\n",
    "    \n",
    "    Args: \n",
    "        None\n",
    "    \n",
    "    Returns: \n",
    "        dict_df (dictionnary of pd.Dataframes): dataframes froms csv raw data\n",
    "    \"\"\"\n",
    "    \n",
    "    dict_df = {}\n",
    "    \n",
    "    for filename in files: \n",
    "        try: \n",
    "            dict_df[filename] = load_one_csv(filename, processed=False)\n",
    "            print(f\"✅ {filename} loaded.\")\n",
    "        except FileNotFoundError as e: \n",
    "            print(f\"Error, file not found ({filename}) → {e}\")\n",
    "            raise\n",
    "        \n",
    "    return dict_df"
   ]
  },
  {
   "cell_type": "code",
   "execution_count": null,
   "id": "1cd1b5ea",
   "metadata": {},
   "outputs": [],
   "source": [
    "dict_df = load_raw()"
   ]
  },
  {
   "cell_type": "markdown",
   "id": "d799aadd",
   "metadata": {},
   "source": [
    "To be done in the Python script: replace paths with env variables or define it in config file and load it in the script"
   ]
  },
  {
   "cell_type": "markdown",
   "id": "099e6762",
   "metadata": {},
   "source": [
    "## Clean data"
   ]
  },
  {
   "cell_type": "markdown",
   "id": "5e27f252",
   "metadata": {},
   "source": [
    "**Prod dataframe**"
   ]
  },
  {
   "cell_type": "code",
   "execution_count": null,
   "id": "bc5abace",
   "metadata": {},
   "outputs": [],
   "source": [
    "df_prod = dict_df[\"Production_Crops_Livestock\"]"
   ]
  },
  {
   "cell_type": "code",
   "execution_count": null,
   "id": "ad64e6ae",
   "metadata": {},
   "outputs": [],
   "source": [
    "df_prod = df_prod[[\"Area\", \"Item\", \"Element\", \"Year\", \"Unit\", \"Value\", \"Flag\"]]\n",
    "df_prod"
   ]
  },
  {
   "cell_type": "code",
   "execution_count": null,
   "id": "8ee554a1",
   "metadata": {},
   "outputs": [],
   "source": [
    "df_prod.isna().sum()"
   ]
  },
  {
   "cell_type": "code",
   "execution_count": null,
   "id": "f3a2af9c",
   "metadata": {},
   "outputs": [],
   "source": [
    "missing_prod = df_prod[df_prod[\"Value\"].isna()]\n",
    "missing_prod "
   ]
  },
  {
   "cell_type": "code",
   "execution_count": null,
   "id": "229479e2",
   "metadata": {},
   "outputs": [],
   "source": [
    "missing_prod[\"Flag\"].value_counts()"
   ]
  },
  {
   "cell_type": "markdown",
   "id": "2fa79b6e",
   "metadata": {},
   "source": [
    "___\n",
    "From FAO Data documentation : \n",
    "- **M**: Missing value (data cannot exist; not applicable)\n",
    "- **A**: Official figure\n",
    "- **E**: Estimated value\n",
    "- **I**: Imputed value\n",
    "___"
   ]
  },
  {
   "cell_type": "markdown",
   "id": "3977aedc",
   "metadata": {},
   "source": [
    "Strategy is to keep ``NaN`` values in processed data, but to let the user choose the strategy when loading and processing the data : \n",
    "- *keep*: keeping all the ``NaN`` values\n",
    "- *zero*: setting all ``NaN`` values to ``0``\n",
    "- *drop*: dropping all the ``NaN`` values"
   ]
  },
  {
   "cell_type": "code",
   "execution_count": null,
   "id": "b4bf8c25",
   "metadata": {},
   "outputs": [],
   "source": [
    "df_prod.duplicated().sum()"
   ]
  },
  {
   "cell_type": "markdown",
   "id": "470e4cc9",
   "metadata": {},
   "source": [
    "**``clean_data()``**"
   ]
  },
  {
   "cell_type": "markdown",
   "id": "8afece3d",
   "metadata": {},
   "source": [
    "* Keep only useful columns \n",
    "* Manage missing rows: no need\n",
    "* Drop duplicates if needed"
   ]
  },
  {
   "cell_type": "code",
   "execution_count": 6,
   "id": "5fd13bd9",
   "metadata": {},
   "outputs": [],
   "source": [
    "columns_to_keep = {\n",
    "    \"Production_Crops_Livestock\": [\"Area\", \"Item\", \"Element\", \"Year\", \"Unit\", \"Value\"],\n",
    "    \"Land_Use\": [\"Area\", \"Item\", \"Element\", \"Year\", \"Unit\", \"Value\"],\n",
    "    \"Emissions_Totals\": [\"Area\", \"Item\", \"Element\", \"Year\", \"Unit\", \"Value\"],\n",
    "    \"Food_Balance\": [\"Area\", \"Item\", \"Element\", \"Year\", \"Unit\", \"Value\"]\n",
    "}"
   ]
  },
  {
   "cell_type": "code",
   "execution_count": 7,
   "id": "c716b4bb",
   "metadata": {},
   "outputs": [],
   "source": [
    "def clean_data(dict_df):\n",
    "    # Keep useful columns\n",
    "    for key, df in dict_df.items():\n",
    "        dict_df[key] = df[columns_to_keep[key]]\n",
    "        \n",
    "    # Missing rows: not taken in this part\n",
    "    \n",
    "    # Drop duplicates: not needed\n",
    "    \n",
    "    print(\"✅ Data processed\")\n",
    "\n",
    "    return dict_df"
   ]
  },
  {
   "cell_type": "code",
   "execution_count": null,
   "id": "61876501",
   "metadata": {},
   "outputs": [],
   "source": [
    "clean_df = clean_data(dict_df)"
   ]
  },
  {
   "cell_type": "markdown",
   "id": "4a010281",
   "metadata": {},
   "source": [
    "**``save_processed()``**"
   ]
  },
  {
   "cell_type": "markdown",
   "id": "d69eb99d",
   "metadata": {},
   "source": [
    "* Check if ``processed``file exists and create one if not \n",
    "* Save a csv file for each dataframe"
   ]
  },
  {
   "cell_type": "code",
   "execution_count": 8,
   "id": "050cd36e",
   "metadata": {},
   "outputs": [],
   "source": [
    "def save_processed(clean_df):\n",
    "    processed_path = package_dir / \"data/processed\"\n",
    "    processed_path.mkdir(parents=True, exist_ok=True) \n",
    "    \n",
    "    for key, df in clean_df.items():\n",
    "        df.to_csv(processed_path / f\"{key}_processed.csv\", index=False, encoding=\"utf-8\")\n",
    "        print(f\"✅ {key} processed saved.\")"
   ]
  },
  {
   "cell_type": "code",
   "execution_count": null,
   "id": "593161d0",
   "metadata": {},
   "outputs": [],
   "source": [
    "save_processed(clean_df)"
   ]
  },
  {
   "cell_type": "markdown",
   "id": "03978ef3",
   "metadata": {},
   "source": [
    "**``load_processed()``**"
   ]
  },
  {
   "cell_type": "markdown",
   "id": "7e18b668",
   "metadata": {},
   "source": [
    "- If data processed is empty -> ``load_raw()``, ``clean()``, ``save()``\n",
    "- If data processed exists -> ``pd.read_csv(\"data/processed/...\")``"
   ]
  },
  {
   "cell_type": "code",
   "execution_count": 9,
   "id": "9445f142",
   "metadata": {},
   "outputs": [],
   "source": [
    "def load_processed(strategy=\"keep\"):\n",
    "    \n",
    "    # Process csv files if not done already\n",
    "    processed_path = Path(package_dir / \"data/processed\")\n",
    "    missing_files = [filename for filename in files if not Path(processed_path / f\"{filename}_processed.csv\").exists()]\n",
    "    if missing_files:\n",
    "        print(\"🟠 Missing files → processing raw data.\")\n",
    "        dict_df = load_raw()\n",
    "        clean_df = clean_data(dict_df)\n",
    "        save_processed(clean_df)\n",
    "    else: \n",
    "        try:\n",
    "            clean_df = {filename: load_one_csv(filename, processed=True) for filename in files}\n",
    "            print(\"✅ Loaded processed data from disk\")\n",
    "        except FileNotFoundError as e: \n",
    "            print(f\"Error, file not found - {e}\")\n",
    "            raise\n",
    "    \n",
    "    # Applying strategy\n",
    "    strategies = {\n",
    "        \"keep\": lambda df: df,\n",
    "        \"zero\": lambda df: df.fillna(0),\n",
    "        \"drop\": lambda df: df.dropna()\n",
    "    }\n",
    "    if strategy not in strategies:\n",
    "        raise ValueError(f\"Unkown strategy {strategy}, please chose from: {', '.join(strategies)}\")\n",
    "    \n",
    "    clean_df = {key: strategies[strategy](df) for key, df in clean_df.items()}\n",
    "    \n",
    "    return clean_df "
   ]
  },
  {
   "cell_type": "code",
   "execution_count": 10,
   "id": "e9bb4984",
   "metadata": {},
   "outputs": [
    {
     "name": "stdout",
     "output_type": "stream",
     "text": [
      "🟠 Missing files → processing raw data.\n"
     ]
    },
    {
     "name": "stderr",
     "output_type": "stream",
     "text": [
      "/tmp/ipykernel_40032/1169561811.py:10: DtypeWarning: Columns (13) have mixed types. Specify dtype option on import or set low_memory=False.\n",
      "  return pd.read_csv(path)\n"
     ]
    },
    {
     "name": "stdout",
     "output_type": "stream",
     "text": [
      "✅ Production_Crops_Livestock loaded.\n",
      "✅ Land_Use loaded.\n",
      "✅ Emissions_Totals loaded.\n",
      "✅ Food_Balance loaded.\n",
      "✅ Data processed\n",
      "✅ Production_Crops_Livestock processed saved.\n",
      "✅ Land_Use processed saved.\n",
      "✅ Emissions_Totals processed saved.\n",
      "✅ Food_Balance processed saved.\n"
     ]
    }
   ],
   "source": [
    "clean_df = load_processed()"
   ]
  },
  {
   "cell_type": "code",
   "execution_count": null,
   "id": "b1098997",
   "metadata": {},
   "outputs": [],
   "source": []
  }
 ],
 "metadata": {
  "kernelspec": {
   "display_name": "Python 3 (ipykernel)",
   "language": "python",
   "name": "python3"
  },
  "language_info": {
   "codemirror_mode": {
    "name": "ipython",
    "version": 3
   },
   "file_extension": ".py",
   "mimetype": "text/x-python",
   "name": "python",
   "nbconvert_exporter": "python",
   "pygments_lexer": "ipython3",
   "version": "3.10.6"
  },
  "toc": {
   "base_numbering": 1,
   "nav_menu": {},
   "number_sections": true,
   "sideBar": true,
   "skip_h1_title": false,
   "title_cell": "Table of Contents",
   "title_sidebar": "Contents",
   "toc_cell": false,
   "toc_position": {},
   "toc_section_display": true,
   "toc_window_display": false
  }
 },
 "nbformat": 4,
 "nbformat_minor": 5
}
